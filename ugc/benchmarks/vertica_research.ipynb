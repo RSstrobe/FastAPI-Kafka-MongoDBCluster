{
 "cells": [
  {
   "cell_type": "code",
   "execution_count": 1,
   "metadata": {
    "ExecuteTime": {
     "end_time": "2023-06-23T15:43:16.312356Z",
     "start_time": "2023-06-23T15:43:16.230594Z"
    },
    "collapsed": false
   },
   "outputs": [
    {
     "name": "stdout",
     "output_type": "stream",
     "text": [
      "Requirement already satisfied: vertica_python in c:\\users\\ilyas\\desktop\\praktikum\\clickhouse_my_test\\venv\\lib\\site-packages (1.3.8)\n",
      "Requirement already satisfied: python-dateutil>=1.5 in c:\\users\\ilyas\\desktop\\praktikum\\clickhouse_my_test\\venv\\lib\\site-packages (from vertica_python) (2.9.0.post0)\n",
      "Requirement already satisfied: six>=1.10.0 in c:\\users\\ilyas\\desktop\\praktikum\\clickhouse_my_test\\venv\\lib\\site-packages (from vertica_python) (1.16.0)\n"
     ]
    },
    {
     "name": "stderr",
     "output_type": "stream",
     "text": [
      "\n",
      "[notice] A new release of pip is available: 23.0.1 -> 24.0\n",
      "[notice] To update, run: python.exe -m pip install --upgrade pip\n"
     ]
    },
    {
     "name": "stdout",
     "output_type": "stream",
     "text": [
      "Requirement already satisfied: faker in c:\\users\\ilyas\\desktop\\praktikum\\clickhouse_my_test\\venv\\lib\\site-packages (24.4.0)\n",
      "Requirement already satisfied: python-dateutil>=2.4 in c:\\users\\ilyas\\desktop\\praktikum\\clickhouse_my_test\\venv\\lib\\site-packages (from faker) (2.9.0.post0)\n",
      "Requirement already satisfied: six>=1.5 in c:\\users\\ilyas\\desktop\\praktikum\\clickhouse_my_test\\venv\\lib\\site-packages (from python-dateutil>=2.4->faker) (1.16.0)\n"
     ]
    },
    {
     "name": "stderr",
     "output_type": "stream",
     "text": [
      "\n",
      "[notice] A new release of pip is available: 23.0.1 -> 24.0\n",
      "[notice] To update, run: python.exe -m pip install --upgrade pip\n"
     ]
    }
   ],
   "source": [
    "!pip install vertica_python\n",
    "!pip install faker"
   ]
  },
  {
   "cell_type": "code",
   "execution_count": 2,
   "metadata": {},
   "outputs": [],
   "source": [
    "from time import time\n",
    "from uuid import uuid4\n",
    "\n",
    "\n",
    "import vertica_python\n",
    "\n",
    "from faker import Faker"
   ]
  },
  {
   "cell_type": "code",
   "execution_count": 7,
   "metadata": {
    "ExecuteTime": {
     "end_time": "2023-06-23T15:43:16.392322Z",
     "start_time": "2023-06-23T15:43:16.313044Z"
    },
    "collapsed": false
   },
   "outputs": [
    {
     "name": "stdout",
     "output_type": "stream",
     "text": [
      "['player_progress']\n"
     ]
    }
   ],
   "source": [
    "fake: Faker = Faker()\n",
    "\n",
    "connection_info = {\n",
    "    'host': 'localhost',\n",
    "    'port': 5433,\n",
    "    'user': 'dbadmin',\n",
    "    'password': '',\n",
    "    'database': 'docker',\n",
    "    'autocommit': True,\n",
    "}\n",
    "\n",
    "connection = vertica_python.connect(**connection_info)\n",
    "cursor = connection.cursor()\n",
    "\n",
    "cursor.execute(\"\"\"\n",
    "    CREATE TABLE IF NOT EXISTS player_progress (\n",
    "        user_id UUID NOT NULL,\n",
    "        movie_id UUID NOT NULL,\n",
    "        event_dt DateTime NOT NULL,\n",
    "        view_progress INTEGER NOT NULL,\n",
    "        movie_duration INTEGER NOT NULL\n",
    "    );\n",
    "    \"\"\")\n",
    "\n",
    "cursor.execute('select table_name from v_catalog.tables')\n",
    "data = cursor.fetchall()[0]\n",
    "print(data)\n"
   ]
  },
  {
   "cell_type": "code",
   "execution_count": 11,
   "metadata": {},
   "outputs": [
    {
     "name": "stdout",
     "output_type": "stream",
     "text": [
      "Insertion speed: 18,625.5 records/sec\n"
     ]
    }
   ],
   "source": [
    "connection_info = {\n",
    "    'host': 'localhost',\n",
    "    'port': 5433,\n",
    "    'user': 'dbadmin',\n",
    "    'password': '',\n",
    "    'database': 'docker',\n",
    "    'autocommit': True,\n",
    "}\n",
    "\n",
    "connection = vertica_python.connect(**connection_info)\n",
    "cursor = connection.cursor()\n",
    "\n",
    "BATCH_SIZE: int = 1000\n",
    "BATCHES: int = 50\n",
    "TOTAL_RECORDS: float = BATCH_SIZE * BATCHES\n",
    "\n",
    "\n",
    "sql_query = \\\n",
    "    'INSERT INTO player_progress \\\n",
    "    (user_id, movie_id, event_dt, view_progress, movie_duration) VALUES (%s, %s, %s, %s, %s)'\n",
    "\n",
    "start_time: float = time()\n",
    "for _ in range(BATCHES):\n",
    "    rows_to_insert = [\n",
    "        (uuid4(),\n",
    "         uuid4(),\n",
    "         fake.date_time_between(start_date=\"-1y\", end_date=\"now\"),\n",
    "         fake.random_int(min=0, max=1000),\n",
    "         fake.random_int(min=1001, max=5000))\n",
    "        for _ in range(BATCH_SIZE)\n",
    "    ]\n",
    "    \n",
    "    cursor.executemany(sql_query, rows_to_insert)\n",
    "\n",
    "insertion_time: float = time() - start_time\n",
    "insertion_speed: float = round(TOTAL_RECORDS / insertion_time, 2)\n",
    "\n",
    "print('Insertion speed: {:,} records/sec'.format(insertion_speed))"
   ]
  },
  {
   "cell_type": "code",
   "execution_count": 12,
   "metadata": {},
   "outputs": [
    {
     "name": "stdout",
     "output_type": "stream",
     "text": [
      "Select speed: 220,495.48 records/sec\n"
     ]
    }
   ],
   "source": [
    "get_rows_count_sql_query = 'SELECT COUNT(*) FROM player_progress'\n",
    "cursor.execute(get_rows_count_sql_query)\n",
    "rows_count = cursor.fetchall()[0][0]\n",
    "\n",
    "FULL_DATA_SQL_QUERY = 'SELECT * FROM player_progress '\n",
    "TRIES_COUNT: int = 5\n",
    "\n",
    "start_time: float = time()\n",
    "for _ in range(TRIES_COUNT):\n",
    "    cursor.execute(FULL_DATA_SQL_QUERY)\n",
    "\n",
    "selecting_time: float = time() - start_time\n",
    "rows_per_second: float = round(rows_count / (selecting_time / TRIES_COUNT), 2)\n",
    "\n",
    "print('Select speed: {:,} records/sec'.format(rows_per_second))"
   ]
  }
 ],
 "metadata": {
  "kernelspec": {
   "display_name": "Python 3",
   "language": "python",
   "name": "python3"
  },
  "language_info": {
   "codemirror_mode": {
    "name": "ipython",
    "version": 3
   },
   "file_extension": ".py",
   "mimetype": "text/x-python",
   "name": "python",
   "nbconvert_exporter": "python",
   "pygments_lexer": "ipython3",
   "version": "3.10.11"
  }
 },
 "nbformat": 4,
 "nbformat_minor": 0
}
