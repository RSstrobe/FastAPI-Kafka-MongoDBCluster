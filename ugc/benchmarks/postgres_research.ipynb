{
 "cells": [
  {
   "cell_type": "code",
   "execution_count": 1,
   "metadata": {
    "ExecuteTime": {
     "end_time": "2023-06-23T15:43:16.312356Z",
     "start_time": "2023-06-23T15:43:16.230594Z"
    },
    "collapsed": false
   },
   "outputs": [
    {
     "name": "stdout",
     "output_type": "stream",
     "text": [
      "Requirement already satisfied: pip in c:\\users\\ilyas\\appdata\\local\\packages\\pythonsoftwarefoundation.python.3.10_qbz5n2kfra8p0\\localcache\\local-packages\\python310\\site-packages (24.0)\n",
      "Note: you may need to restart the kernel to use updated packages.\n",
      "Requirement already satisfied: sqlalchemy in c:\\users\\ilyas\\appdata\\local\\packages\\pythonsoftwarefoundation.python.3.10_qbz5n2kfra8p0\\localcache\\local-packages\\python310\\site-packages (2.0.29)\n",
      "Requirement already satisfied: typing-extensions>=4.6.0 in c:\\users\\ilyas\\appdata\\local\\packages\\pythonsoftwarefoundation.python.3.10_qbz5n2kfra8p0\\localcache\\local-packages\\python310\\site-packages (from sqlalchemy) (4.8.0)\n",
      "Requirement already satisfied: greenlet!=0.4.17 in c:\\users\\ilyas\\appdata\\local\\packages\\pythonsoftwarefoundation.python.3.10_qbz5n2kfra8p0\\localcache\\local-packages\\python310\\site-packages (from sqlalchemy) (3.0.3)\n",
      "Note: you may need to restart the kernel to use updated packages.\n",
      "Requirement already satisfied: sqlalchemy_utils in c:\\users\\ilyas\\appdata\\local\\packages\\pythonsoftwarefoundation.python.3.10_qbz5n2kfra8p0\\localcache\\local-packages\\python310\\site-packages (0.41.2)\n",
      "Requirement already satisfied: SQLAlchemy>=1.3 in c:\\users\\ilyas\\appdata\\local\\packages\\pythonsoftwarefoundation.python.3.10_qbz5n2kfra8p0\\localcache\\local-packages\\python310\\site-packages (from sqlalchemy_utils) (2.0.29)\n",
      "Requirement already satisfied: typing-extensions>=4.6.0 in c:\\users\\ilyas\\appdata\\local\\packages\\pythonsoftwarefoundation.python.3.10_qbz5n2kfra8p0\\localcache\\local-packages\\python310\\site-packages (from SQLAlchemy>=1.3->sqlalchemy_utils) (4.8.0)\n",
      "Requirement already satisfied: greenlet!=0.4.17 in c:\\users\\ilyas\\appdata\\local\\packages\\pythonsoftwarefoundation.python.3.10_qbz5n2kfra8p0\\localcache\\local-packages\\python310\\site-packages (from SQLAlchemy>=1.3->sqlalchemy_utils) (3.0.3)\n",
      "Note: you may need to restart the kernel to use updated packages.\n",
      "Requirement already satisfied: psycopg2 in c:\\users\\ilyas\\appdata\\local\\packages\\pythonsoftwarefoundation.python.3.10_qbz5n2kfra8p0\\localcache\\local-packages\\python310\\site-packages (2.9.9)\n",
      "Note: you may need to restart the kernel to use updated packages.\n"
     ]
    }
   ],
   "source": [
    "%pip install --upgrade pip \n",
    "%pip install sqlalchemy\n",
    "%pip install sqlalchemy_utils\n",
    "%pip install psycopg2\n",
    "%pip install faker"
   ]
  },
  {
   "cell_type": "code",
   "execution_count": 14,
   "metadata": {},
   "outputs": [],
   "source": [
    "from enum import Enum\n",
    "from typing import List\n",
    "from uuid import UUID, uuid4\n",
    "from datetime import datetime\n",
    "from contextlib import closing\n",
    "from time import time\n",
    "from random import choice as random_choice\n",
    "\n",
    "from sqlalchemy import (\n",
    "    create_engine,\n",
    "    inspect,\n",
    "    ForeignKey,\n",
    "    UniqueConstraint,\n",
    "    types\n",
    ")\n",
    "from sqlalchemy.orm import Mapped, mapped_column, relationship, validates, declarative_base, sessionmaker\n",
    "from sqlalchemy_utils import database_exists, create_database\n",
    "\n",
    "from faker import Faker"
   ]
  },
  {
   "cell_type": "code",
   "execution_count": 22,
   "metadata": {},
   "outputs": [],
   "source": [
    "Base = declarative_base()\n",
    "\n",
    "\n",
    "\n",
    "class LikeDislike(Enum):\n",
    "    like = 1\n",
    "    dislike = -1\n",
    "\n",
    "\n",
    "class Review(Base):\n",
    "    __tablename__ = \"review\"\n",
    "    __table_args__ = (\n",
    "        UniqueConstraint('user_id', 'movie_id', name='unique_review_user_movie'),\n",
    "    )\n",
    "\n",
    "    id: Mapped[UUID] = mapped_column(primary_key=True, default=uuid4)\n",
    "\n",
    "    user_id: Mapped[UUID]\n",
    "    movie_id: Mapped[UUID] = mapped_column(index=True)\n",
    "\n",
    "    score: Mapped[int] = mapped_column(nullable=False, comment=\"Оценка отзыва\")\n",
    "    text: Mapped[str] = mapped_column(nullable=False, comment=\"Текст отзыва\")\n",
    "    dt: Mapped[datetime] = mapped_column(nullable=False)\n",
    "    is_delete: Mapped[bool] = mapped_column(nullable=False)\n",
    "\n",
    "    reviews_ratings: Mapped[List['UserReviewRating']] = relationship(\n",
    "        back_populates=\"review\", cascade='all, delete')\n",
    "    \n",
    "    @validates('score')\n",
    "    def validate_score(self, key, value):\n",
    "        if 0 <= value <= 10:\n",
    "            return value\n",
    "        raise ValueError(\"Value should be between 0 and 10\")\n",
    "\n",
    "\n",
    "\n",
    "class Bookmark(Base):\n",
    "    __tablename__ = \"bookmark\"\n",
    "    __table_args__ = (\n",
    "        UniqueConstraint('user_id', 'movie_id', name='unique_bookmark_user_movie'),\n",
    "    )\n",
    "\n",
    "    id: Mapped[UUID] = mapped_column(primary_key=True, default=uuid4)\n",
    "\n",
    "    user_id: Mapped[UUID] = mapped_column(index=True)\n",
    "    movie_id: Mapped[UUID] = mapped_column(types.Uuid)\n",
    "    dt: Mapped[datetime] = mapped_column(nullable=False)\n",
    "    is_delete: Mapped[bool] = mapped_column(nullable=False)\n",
    "\n",
    "\n",
    "class UserReviewRating(Base):\n",
    "    __tablename__ = \"user_review_rating\"\n",
    "    __table_args__ = (\n",
    "        UniqueConstraint('user_id', 'review_id', name='unique_user_review_rating'),\n",
    "    )\n",
    "    id: Mapped[UUID] = mapped_column(primary_key=True, default=uuid4)\n",
    "\n",
    "    user_id: Mapped[UUID] = mapped_column(index=True)\n",
    "\n",
    "    review: Mapped[\"Review\"] = relationship(back_populates=\"reviews_ratings\")\n",
    "    review_id: Mapped[UUID] = mapped_column(ForeignKey(\"review.id\"))\n",
    "\n",
    "    score: Mapped[LikeDislike]\n",
    "    dt: Mapped[datetime] = mapped_column(nullable=False)\n",
    "    is_delete: Mapped[bool] = mapped_column(nullable=False)\n",
    "\n"
   ]
  },
  {
   "cell_type": "code",
   "execution_count": 24,
   "metadata": {},
   "outputs": [
    {
     "name": "stdout",
     "output_type": "stream",
     "text": [
      "Моделей уже есть в БД\n"
     ]
    }
   ],
   "source": [
    "\n",
    "user = 'bench_user'\n",
    "password = 'bench_pass'\n",
    "host = 'localhost'\n",
    "port = 5434\n",
    "db = 'bench_db'\n",
    "\n",
    "pg_url = f'postgresql+psycopg2://{user}:{password}@{host}:{port}/{db}'\n",
    "if not database_exists(pg_url):\n",
    "    print('No db')\n",
    "    create_database(pg_url)\n",
    "    print('db created')\n",
    "\n",
    "engine = create_engine(pg_url)\n",
    "\n",
    "inspector = inspect(engine)\n",
    "db_tables = inspector.get_table_names()\n",
    "\n",
    "if not db_tables:\n",
    "    print('Моделей нет в БД')\n",
    "    Base.metadata.create_all(bind=engine)\n",
    "    print('Модели добавлены в БД')\n",
    "else:\n",
    "    print('Моделей уже есть в БД')"
   ]
  },
  {
   "cell_type": "code",
   "execution_count": 18,
   "metadata": {},
   "outputs": [],
   "source": [
    "fake: Faker = Faker()\n",
    "\n",
    "USERS_COUNT = 500\n",
    "USERS_IDS = [uuid4() for _ in range(USERS_COUNT)]\n",
    "\n",
    "MOVIES_COUNT = 100\n",
    "MOVIES_IDS = [uuid4() for _ in range(MOVIES_COUNT)]\n",
    "\n",
    "session_factory = sessionmaker(bind=engine, expire_on_commit=False)"
   ]
  },
  {
   "cell_type": "code",
   "execution_count": 19,
   "metadata": {},
   "outputs": [
    {
     "name": "stdout",
     "output_type": "stream",
     "text": [
      " -- Insert 50000 reviews. Speed 310.0 records/sec\n"
     ]
    }
   ],
   "source": [
    "# insert review\n",
    "with closing(session_factory()) as session:\n",
    "    start_time: float = time()\n",
    "    for user_id in USERS_IDS:\n",
    "        for movie_id in MOVIES_IDS:\n",
    "            new_review = Review(\n",
    "                user_id=user_id,\n",
    "                movie_id=movie_id,\n",
    "                score=fake.random_int(min=0, max=10),\n",
    "                text=fake.text(), # fake.paragraph,\n",
    "                is_delete=False,\n",
    "                dt=fake.date_time_between(start_date=\"-1y\", end_date=\"now\")\n",
    "            )\n",
    "\n",
    "            session.add(new_review)\n",
    "            session.commit()\n",
    "\n",
    "    insertion_time: float = time() - start_time\n",
    "    insertion_speed: int = (USERS_COUNT * MOVIES_COUNT) // insertion_time\n",
    "\n",
    "    print(f' -- Insert {USERS_COUNT * MOVIES_COUNT} reviews. Speed {insertion_speed} records/sec')"
   ]
  },
  {
   "cell_type": "code",
   "execution_count": 20,
   "metadata": {},
   "outputs": [
    {
     "name": "stdout",
     "output_type": "stream",
     "text": [
      " -- Insertd: 50000 booksmarks. Speed 334.0 records/sec\n"
     ]
    }
   ],
   "source": [
    "# insert bookmarks\n",
    "with closing(session_factory()) as session:\n",
    "    start_time: float = time()\n",
    "    for user_id in USERS_IDS:\n",
    "        for movie_id in MOVIES_IDS:\n",
    "            new_bookmark = Bookmark(\n",
    "                user_id=user_id,\n",
    "                movie_id=movie_id,\n",
    "                is_delete=False,\n",
    "                dt=fake.date_time_between(start_date=\"-1y\", end_date=\"now\")\n",
    "            )\n",
    "\n",
    "            session.add(new_bookmark)\n",
    "            session.commit()\n",
    "\n",
    "    insertion_time: float = time() - start_time\n",
    "    insertion_speed: int = (USERS_COUNT * MOVIES_COUNT) // insertion_time\n",
    "\n",
    "    print(f' -- Insert {USERS_COUNT * MOVIES_COUNT} booksmarks. Speed {insertion_speed} records/sec')"
   ]
  },
  {
   "cell_type": "code",
   "execution_count": 25,
   "metadata": {},
   "outputs": [
    {
     "name": "stdout",
     "output_type": "stream",
     "text": [
      "Insert 50000 reviews ratings. Speed 308.0 records/sec\n"
     ]
    }
   ],
   "source": [
    "# insert review ratings\n",
    "with closing(session_factory()) as session:\n",
    "\n",
    "    reviews_count_for_bench = 100\n",
    "    users_count_for_bench = 500\n",
    "\n",
    "    query_result = session.query(Review.id).limit(reviews_count_for_bench).all()\n",
    "    all_reviews_ids = [review.id for review in query_result]\n",
    "    start_time: float = time()\n",
    "    for user_id in USERS_IDS[:users_count_for_bench]:\n",
    "        for review_id in all_reviews_ids:\n",
    "            score = random_choice([LikeDislike.like, LikeDislike.dislike])\n",
    "            new_review_rating = UserReviewRating(\n",
    "                user_id=user_id,\n",
    "                review_id=review_id,\n",
    "                score=score,\n",
    "                is_delete=False,\n",
    "                dt=fake.date_time_between(start_date=\"-1y\", end_date=\"now\")\n",
    "            )\n",
    "\n",
    "            session.add(new_review_rating)\n",
    "            session.commit()\n",
    "\n",
    "    insertion_time: float = time() - start_time\n",
    "    insertion_speed: int = (reviews_count_for_bench * users_count_for_bench) // insertion_time\n",
    "\n",
    "    print(f' -- Insert {reviews_count_for_bench * users_count_for_bench} reviews ratings. Speed {insertion_speed} records/sec')"
   ]
  },
  {
   "cell_type": "code",
   "execution_count": 28,
   "metadata": {},
   "outputs": [
    {
     "name": "stdout",
     "output_type": "stream",
     "text": [
      " -- Selection 50000 reviews. Speed: 42303.0 records/sec\n"
     ]
    }
   ],
   "source": [
    "# select reviews\n",
    "with closing(session_factory()) as session:\n",
    "    start_time: float = time()\n",
    "    all_reviews = session.query(Review).all()\n",
    "\n",
    "    selection_time: float = time() - start_time\n",
    "\n",
    "    all_reviews_count = len(all_reviews)\n",
    "    selection_speed: int = all_reviews_count // selection_time\n",
    "\n",
    "    print(f' -- Select {all_reviews_count} reviews. Speed: {selection_speed} records/sec')"
   ]
  },
  {
   "cell_type": "code",
   "execution_count": 29,
   "metadata": {},
   "outputs": [
    {
     "name": "stdout",
     "output_type": "stream",
     "text": [
      " -- Selection 50000 bookmarks. Speed: 45083.0 records/sec\n"
     ]
    }
   ],
   "source": [
    "# select bookmarks\n",
    "with closing(session_factory()) as session:\n",
    "    start_time: float = time()\n",
    "    all_booksmarks = session.query(Bookmark).all()\n",
    "\n",
    "    selection_time: float = time() - start_time\n",
    "\n",
    "    all_booksmarks_count = len(all_booksmarks)\n",
    "    selection_speed: int = all_booksmarks_count // selection_time\n",
    "\n",
    "print(f' -- Select {all_reviews_count} bookmarks. Speed: {selection_speed} records/sec')"
   ]
  },
  {
   "cell_type": "code",
   "execution_count": 31,
   "metadata": {},
   "outputs": [
    {
     "name": "stdout",
     "output_type": "stream",
     "text": [
      " -- Select 50000 reviews ratings. Speed: 45752.0 records/sec\n"
     ]
    }
   ],
   "source": [
    "# select review ratings\n",
    "with closing(session_factory()) as session:\n",
    "    start_time: float = time()\n",
    "    all_reviews_ratings = session.query(UserReviewRating).all()\n",
    "\n",
    "    selection_time: float = time() - start_time\n",
    "\n",
    "    all_reviews_ratings_count = len(all_reviews_ratings)\n",
    "    selection_speed: int = all_reviews_ratings_count // selection_time\n",
    "\n",
    "    print(f' -- Select {all_reviews_ratings_count} reviews ratings. Speed: {selection_speed} records/sec')"
   ]
  },
  {
   "cell_type": "code",
   "execution_count": 32,
   "metadata": {},
   "outputs": [
    {
     "name": "stdout",
     "output_type": "stream",
     "text": [
      " -- Update 50000 reviews. Speed: 228.0 records/sec\n"
     ]
    }
   ],
   "source": [
    "# update review\n",
    "with closing(session_factory()) as session:\n",
    "    start_time: float = time()\n",
    "\n",
    "    for user_id in USERS_IDS:\n",
    "        for movie_id in MOVIES_IDS:\n",
    "            review_to_update = session.query(Review).filter(Review.user_id==user_id,\n",
    "                                                            Review.movie_id==movie_id).one_or_none()\n",
    "            \n",
    "            review_to_update.score=fake.random_int(min=0, max=10)\n",
    "            review_to_update.text=fake.paragraph(), # fake.paragraph,\n",
    "            review_dt=fake.date_time_between(start_date=\"-1y\", end_date=\"now\")\n",
    "\n",
    "            session.commit()\n",
    "\n",
    "    updation_time: float = time() - start_time\n",
    "    updation_speed: int = (USERS_COUNT * MOVIES_COUNT) // updation_time\n",
    "\n",
    "    print(f' -- Update {USERS_COUNT * MOVIES_COUNT} reviews. Speed: {updation_speed} records/sec')"
   ]
  }
 ],
 "metadata": {
  "kernelspec": {
   "display_name": "Python 3",
   "language": "python",
   "name": "python3"
  },
  "language_info": {
   "codemirror_mode": {
    "name": "ipython",
    "version": 3
   },
   "file_extension": ".py",
   "mimetype": "text/x-python",
   "name": "python",
   "nbconvert_exporter": "python",
   "pygments_lexer": "ipython3",
   "version": "3.10.11"
  }
 },
 "nbformat": 4,
 "nbformat_minor": 0
}
