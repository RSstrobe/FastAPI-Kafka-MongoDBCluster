{
 "cells": [
  {
   "cell_type": "code",
   "execution_count": 1,
   "metadata": {
    "ExecuteTime": {
     "end_time": "2023-06-23T15:43:16.312356Z",
     "start_time": "2023-06-23T15:43:16.230594Z"
    },
    "collapsed": false
   },
   "outputs": [
    {
     "name": "stdout",
     "output_type": "stream",
     "text": [
      "Requirement already satisfied: pip in c:\\users\\ilyas\\appdata\\local\\packages\\pythonsoftwarefoundation.python.3.10_qbz5n2kfra8p0\\localcache\\local-packages\\python310\\site-packages (24.0)\n",
      "Note: you may need to restart the kernel to use updated packages.\n",
      "Requirement already satisfied: pymongo in c:\\users\\ilyas\\appdata\\local\\packages\\pythonsoftwarefoundation.python.3.10_qbz5n2kfra8p0\\localcache\\local-packages\\python310\\site-packages (4.6.3)\n",
      "Requirement already satisfied: dnspython<3.0.0,>=1.16.0 in c:\\users\\ilyas\\appdata\\local\\packages\\pythonsoftwarefoundation.python.3.10_qbz5n2kfra8p0\\localcache\\local-packages\\python310\\site-packages (from pymongo) (2.6.1)\n",
      "Note: you may need to restart the kernel to use updated packages.\n",
      "Requirement already satisfied: faker in c:\\users\\ilyas\\appdata\\local\\packages\\pythonsoftwarefoundation.python.3.10_qbz5n2kfra8p0\\localcache\\local-packages\\python310\\site-packages (24.7.1)\n",
      "Requirement already satisfied: python-dateutil>=2.4 in c:\\users\\ilyas\\appdata\\local\\packages\\pythonsoftwarefoundation.python.3.10_qbz5n2kfra8p0\\localcache\\local-packages\\python310\\site-packages (from faker) (2.9.0.post0)\n",
      "Requirement already satisfied: six>=1.5 in c:\\users\\ilyas\\appdata\\local\\packages\\pythonsoftwarefoundation.python.3.10_qbz5n2kfra8p0\\localcache\\local-packages\\python310\\site-packages (from python-dateutil>=2.4->faker) (1.16.0)\n",
      "Note: you may need to restart the kernel to use updated packages.\n"
     ]
    }
   ],
   "source": [
    "%pip install --upgrade pip \n",
    "%pip install pymongo\n",
    "%pip install faker"
   ]
  },
  {
   "cell_type": "code",
   "execution_count": 2,
   "metadata": {},
   "outputs": [],
   "source": [
    "from uuid import uuid4\n",
    "from datetime import datetime\n",
    "from contextlib import closing\n",
    "from time import time\n",
    "from random import choice as random_choice\n",
    "\n",
    "from pymongo import MongoClient\n",
    "\n",
    "from faker import Faker"
   ]
  },
  {
   "cell_type": "code",
   "execution_count": 3,
   "metadata": {},
   "outputs": [],
   "source": [
    "USERNAME = 'bench_user'\n",
    "PASS = 'bench_pass'\n",
    "HOST = 'localhost'\n",
    "PORT = 27040\n",
    "DB = 'bench_db'\n",
    "\n",
    "def get_mongo_client():\n",
    "    return MongoClient(host=HOST,\n",
    "                       port=PORT,\n",
    "                       username=USERNAME,\n",
    "                       password=PASS,\n",
    "                       uuidRepresentation='standard')\n"
   ]
  },
  {
   "cell_type": "code",
   "execution_count": 4,
   "metadata": {},
   "outputs": [],
   "source": [
    "# create review collection\n",
    "with closing(get_mongo_client()) as client:\n",
    "   database = client[DB]\n",
    "\n",
    "   database.drop_collection('review')\n",
    "\n",
    "   review_schema = {\n",
    "         \"bsonType\": \"object\",\n",
    "         \"required\": [\"user_id\", \"movie_id\", \"score\", \"is_delete\", \"dt\"],\n",
    "         \"properties\": {\n",
    "            \"user_id\": {\n",
    "               \"bsonType\": \"binData\"\n",
    "            },\n",
    "            \"movie_id\": {\n",
    "               \"bsonType\": \"binData\"\n",
    "            },\n",
    "            \"score\": {\n",
    "               \"bsonType\": \"int\"\n",
    "            },\n",
    "            \"text\": {\n",
    "               \"bsonType\": \"string\"\n",
    "            },\n",
    "            \"is_delete\": {\n",
    "               \"bsonType\": \"bool\"\n",
    "            },\n",
    "            \"dt\": {\n",
    "               \"bsonType\": \"date\"\n",
    "            }\n",
    "         }\n",
    "      }\n",
    "\n",
    "   review_collection = database.create_collection(\n",
    "      'review',\n",
    "      check_exists=False,\n",
    "      validator= {\n",
    "         '$jsonSchema': review_schema\n",
    "      })\n",
    "\n",
    "   review_collection.create_index(\"movie_id\")\n"
   ]
  },
  {
   "cell_type": "code",
   "execution_count": 5,
   "metadata": {},
   "outputs": [],
   "source": [
    "# create bookmark collection\n",
    "with closing(get_mongo_client()) as client:\n",
    "   database = client[DB]\n",
    "\n",
    "   database.drop_collection('bookmark')\n",
    "\n",
    "   bookmark_schema = {\n",
    "         \"bsonType\": \"object\",\n",
    "         \"required\": [\"user_id\", \"movie_id\", \"is_delete\", \"dt\"],\n",
    "         \"properties\": {\n",
    "            \"user_id\": {\n",
    "               \"bsonType\": \"binData\"\n",
    "            },\n",
    "            \"movie_id\": {\n",
    "               \"bsonType\": \"binData\"\n",
    "            },\n",
    "            \"is_delete\": {\n",
    "               \"bsonType\": \"bool\"\n",
    "            },\n",
    "            \"dt\": {\n",
    "               \"bsonType\": \"date\"\n",
    "            }\n",
    "         }\n",
    "      }\n",
    "\n",
    "   bookmark_collection = database.create_collection(\n",
    "      'bookmark',\n",
    "      check_exists=False,\n",
    "      validator= {\n",
    "         '$jsonSchema': bookmark_schema\n",
    "      })\n",
    "\n",
    "   bookmark_collection.create_index(\"user_id\")"
   ]
  },
  {
   "cell_type": "code",
   "execution_count": 6,
   "metadata": {},
   "outputs": [
    {
     "name": "stdout",
     "output_type": "stream",
     "text": [
      "{'_id_': {'v': 2, 'key': [('_id', 1)]}, 'review_id_1': {'v': 2, 'key': [('review_id', 1)]}}\n"
     ]
    }
   ],
   "source": [
    "# create review_rating collection\n",
    "with closing(get_mongo_client()) as client:\n",
    "    database = client[DB]\n",
    "\n",
    "    database.drop_collection('review_rating')\n",
    "\n",
    "    review_rating_schema = {\n",
    "        \"bsonType\": \"object\",\n",
    "        \"required\": [\"user_id\", \"review_id\", \"score\", \"is_delete\", \"dt\"],\n",
    "        \"properties\": {\n",
    "            \"user_id\": {\n",
    "                \"bsonType\": \"binData\"\n",
    "            },\n",
    "            \"review_id\": {\n",
    "                \"bsonType\": \"binData\"\n",
    "            },\n",
    "            \"score\": {\n",
    "                \"bsonType\": \"int\"\n",
    "            },\n",
    "            \"is_delete\": {\n",
    "               \"bsonType\": \"bool\"\n",
    "            },\n",
    "            \"dt\": {\n",
    "               \"bsonType\": \"date\"\n",
    "            }\n",
    "        }\n",
    "    }\n",
    "\n",
    "    review_rating_collection = database.create_collection(\n",
    "        'review_rating',\n",
    "        check_exists=False,\n",
    "        validator= {\n",
    "            '$jsonSchema': review_rating_schema,\n",
    "            'score': {\n",
    "                '$in': [-1, 1]\n",
    "            }\n",
    "        }\n",
    "    )\n",
    "\n",
    "    review_rating_collection.create_index(\"review_id\")"
   ]
  },
  {
   "cell_type": "code",
   "execution_count": 7,
   "metadata": {},
   "outputs": [
    {
     "name": "stdout",
     "output_type": "stream",
     "text": [
      "['bookmark', 'review', 'review_rating']\n",
      "{'_id_': {'v': 2, 'key': [('_id', 1)]}, 'movie_id_1': {'v': 2, 'key': [('movie_id', 1)]}}\n",
      "{'_id_': {'v': 2, 'key': [('_id', 1)]}, 'user_id_1': {'v': 2, 'key': [('user_id', 1)]}}\n",
      "{'_id_': {'v': 2, 'key': [('_id', 1)]}, 'review_id_1': {'v': 2, 'key': [('review_id', 1)]}}\n"
     ]
    }
   ],
   "source": [
    "# check collections & indexes\n",
    "with closing(get_mongo_client()) as client:\n",
    "    database = client[DB]\n",
    "\n",
    "    print(database.list_collection_names())\n",
    "    print(database['review'].index_information())\n",
    "    print(database['bookmark'].index_information())\n",
    "    print(database['review_rating'].index_information())\n"
   ]
  },
  {
   "cell_type": "code",
   "execution_count": 8,
   "metadata": {},
   "outputs": [],
   "source": [
    "fake: Faker = Faker()\n",
    "\n",
    "USERS_COUNT = 500\n",
    "USERS_IDS = [uuid4() for _ in range(USERS_COUNT)]\n",
    "\n",
    "MOVIES_COUNT = 100\n",
    "MOVIES_IDS = [uuid4() for _ in range(MOVIES_COUNT)]"
   ]
  },
  {
   "cell_type": "code",
   "execution_count": 9,
   "metadata": {},
   "outputs": [
    {
     "name": "stdout",
     "output_type": "stream",
     "text": [
      " - Insert 50000 reviews. Insertion speed: 1,023.0 records/sec\n"
     ]
    }
   ],
   "source": [
    "# insert review\n",
    "with closing(get_mongo_client()) as client:\n",
    "    collection = client[DB]['review']\n",
    "\n",
    "    start_time: float = time()\n",
    "    for user_id in USERS_IDS:\n",
    "        for movie_id in MOVIES_IDS:\n",
    "            new_review = {\n",
    "                'user_id': uuid4(),\n",
    "                'movie_id': uuid4(),\n",
    "                'score': fake.random_int(min=0, max=10),\n",
    "                'text': fake.text(),\n",
    "                'is_delete': False,\n",
    "                'dt': fake.date_time_between(start_date=\"-1y\", end_date=\"now\")\n",
    "            }\n",
    "\n",
    "            collection.insert_one(new_review)\n",
    "\n",
    "    insertion_time: float = time() - start_time\n",
    "    insertion_speed: int = (USERS_COUNT * MOVIES_COUNT) // insertion_time\n",
    "\n",
    "    print(f' - Insert {USERS_COUNT * MOVIES_COUNT} reviews. Insertion speed: {insertion_speed:,} records/sec')"
   ]
  },
  {
   "cell_type": "code",
   "execution_count": 12,
   "metadata": {},
   "outputs": [
    {
     "name": "stdout",
     "output_type": "stream",
     "text": [
      " -- Insert 50000 booksmarks. Speed: 1163.0 records/sec\n"
     ]
    }
   ],
   "source": [
    "# insert bookmark\n",
    "with closing(get_mongo_client()) as client:\n",
    "    collection = client[DB]['bookmark']\n",
    "\n",
    "    start_time: float = time()\n",
    "    for user_id in USERS_IDS:\n",
    "        for movie_id in MOVIES_IDS:\n",
    "            new_bookmark = {\n",
    "                'user_id': uuid4(),\n",
    "                'movie_id': uuid4(),\n",
    "                'is_delete': False,\n",
    "                'dt': fake.date_time_between(start_date=\"-1y\", end_date=\"now\")\n",
    "            }\n",
    "            collection.insert_one(new_bookmark)\n",
    "\n",
    "    insertion_time: float = time() - start_time\n",
    "    insertion_speed: int = (USERS_COUNT * MOVIES_COUNT) // insertion_time\n",
    "\n",
    "    print(f' -- Insert {USERS_COUNT * MOVIES_COUNT} booksmarks. Speed: {insertion_speed} records/sec')"
   ]
  },
  {
   "cell_type": "code",
   "execution_count": 14,
   "metadata": {},
   "outputs": [
    {
     "name": "stdout",
     "output_type": "stream",
     "text": [
      " -- Insert 50000 reviews ratings.Speed: 1171.0 records/sec\n"
     ]
    }
   ],
   "source": [
    "# insert review rating\n",
    "with closing(get_mongo_client()) as client:\n",
    "    collection = client[DB]['review_rating']\n",
    "\n",
    "    reviews_count_for_bench = 100\n",
    "    users_count_for_bench = 500\n",
    "\n",
    "    query_result = client[DB]['review'].find({}).limit(reviews_count_for_bench)\n",
    "    all_reviews_ids = [review.get('id') for review in query_result]\n",
    "\n",
    "    start_time: float = time()\n",
    "    for user_id in USERS_IDS[:users_count_for_bench]:\n",
    "        for review_id in all_reviews_ids:\n",
    "            new_review_rating = {\n",
    "                'user_id': uuid4(),\n",
    "                'review_id': uuid4(),\n",
    "                'score': random_choice([-1, 1]),\n",
    "                'is_delete': False,\n",
    "                'dt': fake.date_time_between(start_date=\"-1y\", end_date=\"now\")\n",
    "            }\n",
    "            collection.insert_one(new_review_rating)\n",
    "\n",
    "    insertion_time: float = time() - start_time\n",
    "    insertion_speed: int = (reviews_count_for_bench * users_count_for_bench) // insertion_time\n",
    "\n",
    "    print(f' -- Insert {reviews_count_for_bench * users_count_for_bench} reviews ratings.Speed: {insertion_speed} records/sec')"
   ]
  },
  {
   "cell_type": "code",
   "execution_count": 39,
   "metadata": {},
   "outputs": [
    {
     "name": "stdout",
     "output_type": "stream",
     "text": [
      " -- Select 50000 reviews. Speed: 57302.0 records/sec\n"
     ]
    }
   ],
   "source": [
    "# select review\n",
    "with closing(get_mongo_client()) as client:\n",
    "    collection = client[DB]['review']\n",
    "\n",
    "    start_time = time()\n",
    "    all_reviews = list(collection.find({}))\n",
    "    selection_time = float(time() - start_time)\n",
    "\n",
    "    reviews_len = len(all_reviews)\n",
    "    selection_speed = reviews_len // selection_time\n",
    "\n",
    "    print(f' -- Select {reviews_len} reviews. Speed: {selection_speed} records/sec')"
   ]
  },
  {
   "cell_type": "code",
   "execution_count": 41,
   "metadata": {},
   "outputs": [
    {
     "name": "stdout",
     "output_type": "stream",
     "text": [
      " -- Select 50000 bookmarks. Speed: 72812.0 records/sec\n"
     ]
    }
   ],
   "source": [
    "# select bookmarks\n",
    "with closing(get_mongo_client()) as client:\n",
    "    collection = client[DB]['bookmark']\n",
    "\n",
    "    start_time = time()\n",
    "    all_bookmarks = list(collection.find({}))\n",
    "    selection_time = float(time() - start_time)\n",
    "\n",
    "    bookmarks_len:int  = len(all_bookmarks)\n",
    "    selection_speed: int = bookmarks_len // selection_time\n",
    "\n",
    "    print(f' -- Select {bookmarks_len} bookmarks. Speed: {selection_speed} records/sec')"
   ]
  },
  {
   "cell_type": "code",
   "execution_count": 43,
   "metadata": {},
   "outputs": [
    {
     "name": "stdout",
     "output_type": "stream",
     "text": [
      " -- Select 50000 review ratings. Speed: 85498.0 records/sec\n"
     ]
    }
   ],
   "source": [
    "# select review ratings\n",
    "with closing(get_mongo_client()) as client:\n",
    "    collection = client[DB]['review_rating']\n",
    "\n",
    "    start_time: float = time()\n",
    "    all_review_ratings = list(collection.find({}))\n",
    "    selection_time: float = float(time() - start_time)\n",
    "\n",
    "    reviews_ratings_len = len(all_review_ratings)\n",
    "    selection_speed: int = reviews_ratings_len // selection_time\n",
    "\n",
    "    print(f' -- Select {reviews_ratings_len} review ratings. Speed: {selection_speed} records/sec')"
   ]
  },
  {
   "cell_type": "code",
   "execution_count": 11,
   "metadata": {},
   "outputs": [
    {
     "name": "stdout",
     "output_type": "stream",
     "text": [
      " -- Update 50000 reviews.Speed: 934.0 records/sec\n"
     ]
    }
   ],
   "source": [
    "# update review\n",
    "with closing(get_mongo_client()) as client:\n",
    "    collection = client[DB]['review']\n",
    "\n",
    "    all_reviews = list(collection.find({}))\n",
    "    reviews_len = len(all_reviews)\n",
    "\n",
    "    start_time: float = time()\n",
    "    for review in all_reviews:\n",
    "        filter = {\n",
    "            'movie_id': review.get('movie_id'),\n",
    "            'user_id': review.get('user_id'),\n",
    "        }\n",
    "        new_values = {\n",
    "            'score': fake.random_int(min=0, max=10),\n",
    "            'text': fake.text(),\n",
    "            'dt': fake.date_time_between(start_date=\"-1y\", end_date=\"now\")\n",
    "        }\n",
    "\n",
    "        collection.update_one(filter, {'$set': new_values})\n",
    "\n",
    "    updation_time: float = float(time() - start_time)\n",
    "    updation_speed: int = reviews_len // updation_time\n",
    "\n",
    "    print(f' -- Update {reviews_len} reviews.Speed: {updation_speed} records/sec')"
   ]
  }
 ],
 "metadata": {
  "kernelspec": {
   "display_name": "Python 3",
   "language": "python",
   "name": "python3"
  },
  "language_info": {
   "codemirror_mode": {
    "name": "ipython",
    "version": 3
   },
   "file_extension": ".py",
   "mimetype": "text/x-python",
   "name": "python",
   "nbconvert_exporter": "python",
   "pygments_lexer": "ipython3",
   "version": "3.10.11"
  }
 },
 "nbformat": 4,
 "nbformat_minor": 0
}
