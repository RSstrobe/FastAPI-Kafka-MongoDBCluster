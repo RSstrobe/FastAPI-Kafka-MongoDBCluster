{
 "cells": [
  {
   "cell_type": "code",
   "execution_count": 62,
   "metadata": {
    "ExecuteTime": {
     "end_time": "2023-06-23T15:43:16.312356Z",
     "start_time": "2023-06-23T15:43:16.230594Z"
    },
    "collapsed": false
   },
   "outputs": [
    {
     "name": "stdout",
     "output_type": "stream",
     "text": [
      "Requirement already satisfied: clickhouse_driver in c:\\users\\ilyas\\desktop\\praktikum\\clickhouse_my_test\\venv\\lib\\site-packages (0.2.7)\n",
      "Requirement already satisfied: tzlocal in c:\\users\\ilyas\\desktop\\praktikum\\clickhouse_my_test\\venv\\lib\\site-packages (from clickhouse_driver) (5.2)\n",
      "Requirement already satisfied: pytz in c:\\users\\ilyas\\desktop\\praktikum\\clickhouse_my_test\\venv\\lib\\site-packages (from clickhouse_driver) (2024.1)\n",
      "Requirement already satisfied: tzdata in c:\\users\\ilyas\\desktop\\praktikum\\clickhouse_my_test\\venv\\lib\\site-packages (from tzlocal->clickhouse_driver) (2024.1)\n"
     ]
    },
    {
     "name": "stderr",
     "output_type": "stream",
     "text": [
      "\n",
      "[notice] A new release of pip is available: 23.0.1 -> 24.0\n",
      "[notice] To update, run: python.exe -m pip install --upgrade pip\n"
     ]
    },
    {
     "name": "stdout",
     "output_type": "stream",
     "text": [
      "Requirement already satisfied: faker in c:\\users\\ilyas\\desktop\\praktikum\\clickhouse_my_test\\venv\\lib\\site-packages (24.4.0)\n",
      "Requirement already satisfied: python-dateutil>=2.4 in c:\\users\\ilyas\\desktop\\praktikum\\clickhouse_my_test\\venv\\lib\\site-packages (from faker) (2.9.0.post0)\n",
      "Requirement already satisfied: six>=1.5 in c:\\users\\ilyas\\desktop\\praktikum\\clickhouse_my_test\\venv\\lib\\site-packages (from python-dateutil>=2.4->faker) (1.16.0)\n"
     ]
    },
    {
     "name": "stderr",
     "output_type": "stream",
     "text": [
      "\n",
      "[notice] A new release of pip is available: 23.0.1 -> 24.0\n",
      "[notice] To update, run: python.exe -m pip install --upgrade pip\n"
     ]
    }
   ],
   "source": [
    "!pip install clickhouse_driver\n",
    "!pip install faker"
   ]
  },
  {
   "cell_type": "code",
   "execution_count": 63,
   "metadata": {},
   "outputs": [],
   "source": [
    "from time import time\n",
    "from uuid import uuid4\n",
    "\n",
    "\n",
    "from clickhouse_driver import Client\n",
    "\n",
    "from faker import Faker"
   ]
  },
  {
   "cell_type": "code",
   "execution_count": 97,
   "metadata": {
    "ExecuteTime": {
     "end_time": "2023-06-23T15:43:16.392322Z",
     "start_time": "2023-06-23T15:43:16.313044Z"
    },
    "collapsed": false
   },
   "outputs": [],
   "source": [
    "fake: Faker = Faker()\n",
    "\n",
    "client = Client(host='localhost',\n",
    "                port=9000,\n",
    "                user='admin',\n",
    "                password='123')"
   ]
  },
  {
   "cell_type": "code",
   "execution_count": null,
   "metadata": {},
   "outputs": [
    {
     "data": {
      "text/plain": [
       "[('player_progress',)]"
      ]
     },
     "execution_count": 98,
     "metadata": {},
     "output_type": "execute_result"
    }
   ],
   "source": [
    "client.execute(\\\n",
    "    '''\n",
    "    CREATE TABLE IF NOT EXISTS player_progress\n",
    "    (user_id UUID,\n",
    "     movie_id UUID,\n",
    "     event_dt DateTime,\n",
    "     view_progress Int64,\n",
    "     movie_duration Int64\n",
    "    )\n",
    "    ENGINE MergeTree() \n",
    "    ORDER BY (event_dt);\n",
    "    '''\n",
    ")\n",
    "\n",
    "client.execute('SHOW TABLES from default')\n"
   ]
  },
  {
   "cell_type": "code",
   "execution_count": 99,
   "metadata": {
    "ExecuteTime": {
     "end_time": "2023-06-23T15:45:38.454082Z",
     "start_time": "2023-06-23T15:43:16.410490Z"
    },
    "collapsed": false
   },
   "outputs": [
    {
     "name": "stdout",
     "output_type": "stream",
     "text": [
      "0\n",
      "1\n",
      "2\n",
      "3\n",
      "4\n",
      "5\n",
      "6\n",
      "7\n",
      "8\n",
      "9\n",
      "10\n",
      "11\n",
      "12\n",
      "13\n",
      "14\n",
      "15\n",
      "16\n",
      "17\n",
      "18\n",
      "19\n",
      "20\n",
      "21\n",
      "22\n",
      "23\n",
      "24\n",
      "25\n",
      "26\n",
      "27\n",
      "28\n",
      "29\n",
      "30\n",
      "31\n",
      "32\n",
      "33\n",
      "34\n",
      "35\n",
      "36\n",
      "37\n",
      "38\n",
      "39\n",
      "40\n",
      "41\n",
      "42\n",
      "43\n",
      "44\n",
      "45\n",
      "46\n",
      "47\n",
      "48\n",
      "49\n",
      "50\n",
      "51\n",
      "52\n",
      "53\n",
      "54\n",
      "55\n",
      "56\n",
      "57\n",
      "58\n",
      "59\n",
      "60\n",
      "61\n",
      "62\n",
      "63\n",
      "64\n",
      "65\n",
      "66\n",
      "67\n",
      "68\n",
      "69\n",
      "70\n",
      "71\n",
      "72\n",
      "73\n",
      "74\n",
      "75\n",
      "76\n",
      "77\n",
      "78\n",
      "79\n",
      "80\n",
      "81\n",
      "82\n",
      "83\n",
      "84\n",
      "85\n",
      "86\n",
      "87\n",
      "88\n",
      "89\n",
      "90\n",
      "91\n",
      "92\n",
      "93\n",
      "94\n",
      "95\n",
      "96\n",
      "97\n",
      "98\n",
      "99\n",
      "Insertion speed: 5,571.52 records/sec\n"
     ]
    }
   ],
   "source": [
    "BATCH_SIZE: int = 1000\n",
    "BATCHES: int = 50\n",
    "TOTAL_RECORDS: float = BATCH_SIZE * BATCHES\n",
    "\n",
    "start_time: float = time()\n",
    "\n",
    "INSERT_SQL_QUERY = '''\n",
    "    INSERT INTO player_progress\n",
    "    (user_id, movie_id, event_dt, view_progress, movie_duration) VALUES\n",
    "    '''\n",
    "\n",
    "for _ in range(BATCHES):\n",
    "    rows_to_insert = [\n",
    "            (uuid4(),\n",
    "             uuid4(),\n",
    "             fake.date_time_between(start_date=\"-1y\", end_date=\"now\"),\n",
    "             fake.random_int(min=0, max=1000),\n",
    "             fake.random_int(min=1001, max=5000))\n",
    "            for _ in range(BATCH_SIZE)\n",
    "        ]\n",
    "    client.execute(query=INSERT_SQL_QUERY, params=rows_to_insert)\n",
    "\n",
    "insertion_time: float  = time() - start_time\n",
    "\n",
    "insertion_speed: float  = round(TOTAL_RECORDS / insertion_time, 2)\n",
    "\n",
    "print('Insertion speed: {:,} records/sec'.format(insertion_speed))"
   ]
  },
  {
   "cell_type": "code",
   "execution_count": 101,
   "metadata": {
    "ExecuteTime": {
     "end_time": "2023-06-23T15:45:47.189205Z",
     "start_time": "2023-06-23T15:45:38.455276Z"
    },
    "collapsed": false
   },
   "outputs": [
    {
     "name": "stdout",
     "output_type": "stream",
     "text": [
      "Reading speed: 77,558.81 records/sec\n"
     ]
    }
   ],
   "source": [
    "get_rows_count_sql_query = 'SELECT COUNT(*) FROM player_progress'\n",
    "rows_count = client.execute(get_rows_count_sql_query)[0][0]\n",
    "\n",
    "FULL_DATA_SQL_QUERY = 'SELECT * FROM player_progress '\n",
    "TRIES_COUNT: int = 5\n",
    "start_time: float = time()\n",
    "for _ in range(TRIES_COUNT):\n",
    "    client.execute(query=FULL_DATA_SQL_QUERY)\n",
    "\n",
    "reading_time: float = time() - start_time\n",
    "rows_per_second: float = round(rows_count / (reading_time / TRIES_COUNT), 2)\n",
    "\n",
    "print('Reading speed: {:,} records/sec'.format(rows_per_second))"
   ]
  },
  {
   "cell_type": "code",
   "execution_count": null,
   "metadata": {},
   "outputs": [],
   "source": []
  }
 ],
 "metadata": {
  "kernelspec": {
   "display_name": "Python 3",
   "language": "python",
   "name": "python3"
  },
  "language_info": {
   "codemirror_mode": {
    "name": "ipython",
    "version": 3
   },
   "file_extension": ".py",
   "mimetype": "text/x-python",
   "name": "python",
   "nbconvert_exporter": "python",
   "pygments_lexer": "ipython3",
   "version": "3.10.11"
  }
 },
 "nbformat": 4,
 "nbformat_minor": 0
}
